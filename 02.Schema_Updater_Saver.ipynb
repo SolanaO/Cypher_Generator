{
 "cells": [
  {
   "cell_type": "markdown",
   "metadata": {},
   "source": [
    "# Update Graph Data"
   ]
  },
  {
   "cell_type": "markdown",
   "metadata": {},
   "source": [
    "Run this to update schema and the related information for the graph."
   ]
  },
  {
   "cell_type": "markdown",
   "metadata": {},
   "source": [
    "## Workspace Setup"
   ]
  },
  {
   "cell_type": "code",
   "execution_count": 1,
   "metadata": {},
   "outputs": [],
   "source": [
    "# Load credentials and other environment variables\n",
    "import os\n",
    "from dotenv import load_dotenv, find_dotenv\n",
    "\n",
    "_ = load_dotenv(find_dotenv())\n",
    "\n",
    "# Graph database credentials\n",
    "uri = os.getenv(\"NEO4J_URI\")\n",
    "user = os.getenv(\"NEO4J_USER\")\n",
    "pwd = os.getenv(\"NEO4J_PWD\")\n",
    "\n",
    "# Relevant files\n",
    "schema_prompt_file = os.getenv(\"SCHEMA_PROMPT\")\n",
    "schema_full_file = os.getenv(\"SCHEMA_FULL\")\n",
    "schema_simplified_file = os.getenv(\"SCHEMA_SIMPLIFIED\")\n",
    "nodes_file = os.getenv(\"NODES_LIST\")\n",
    "node_props_file = os.getenv(\"NODES_PROPERTIES\")\n",
    "rels_props_file = os.getenv(\"RELATIONSHIPS_PROPERTIES\")\n",
    "rels_file = os.getenv(\"RELATIONSHIPS_LIST\")\n",
    "instances_nodes_file = os.getenv(\"INSTANCES_NODES\")\n",
    "instances_relationships_file = os.getenv(\"INSTANCES_RELATIONSHIPS\")"
   ]
  },
  {
   "cell_type": "code",
   "execution_count": 2,
   "metadata": {},
   "outputs": [],
   "source": [
    "# Set the working directory and import the local modules\n",
    "import sys\n",
    "from pathlib import Path\n",
    "parent_dir = Path.cwd() #.parent\n",
    "sys.path.append(str(parent_dir))\n",
    "\n",
    "from helpers.utilities import *\n",
    "from helpers.graph_utils import *\n",
    "from helpers.neo4j_schema import Neo4jSchema"
   ]
  },
  {
   "cell_type": "code",
   "execution_count": 4,
   "metadata": {},
   "outputs": [],
   "source": [
    "# Instantiate the schema utilities module \n",
    "sutils = Neo4jSchema(uri, user, pwd)"
   ]
  },
  {
   "cell_type": "markdown",
   "metadata": {},
   "source": [
    "## Update & Save Graph Information"
   ]
  },
  {
   "cell_type": "code",
   "execution_count": 5,
   "metadata": {},
   "outputs": [],
   "source": [
    "# Simplified schema as a text to be used for prompt\n",
    "schema_simplified = sutils.build_string_schema_simplified()\n",
    "write_json(schema_simplified, schema_prompt_file)\n",
    "\n",
    "# Create the full graph schema and save it to a file\n",
    "sutils.save_schema_full(schema_full_file)\n",
    "#schema_full = read_json(schema_full_file)\n",
    "\n",
    "# Create the simplified graph schema and save it to a file\n",
    "sutils.save_schema_simplified(schema_simplified_file)\n",
    "#schema_simplified = read_json(schema_simplified_file)\n",
    "\n",
    "# Save nodes labels to a file \n",
    "sutils.get_node_names(nodes_file)\n",
    "#nodes = read_json(nodes_file)\n",
    "\n",
    "# Save the nodes with their properties and data types\n",
    "sutils.node_properties_with_types(node_props_file)\n",
    "#node_props_types = read_json(node_props_file)\n",
    "\n",
    "# Save the relationship properties\n",
    "sutils.relationship_properties_with_types(rels_props_file)\n",
    "#rels_props_types = read_json(rels_props_file)\n",
    "\n",
    "# Save the relationships\n",
    "sutils.relationships(rels_file)\n",
    "#rels = read_json(rels_file)"
   ]
  },
  {
   "cell_type": "markdown",
   "metadata": {},
   "source": [
    "## Update & Save Instances Data"
   ]
  },
  {
   "cell_type": "markdown",
   "metadata": {},
   "source": [
    "### Node Instances"
   ]
  },
  {
   "cell_type": "code",
   "execution_count": 5,
   "metadata": {},
   "outputs": [],
   "source": [
    "# Read the nodes list\n",
    "nodes = read_json(nodes_file)\n",
    "\n",
    "# Extract n=10 instances for each node label in the graph\n",
    "nodes_instances = sutils.extract_data_values(nodes, 10)\n",
    "\n",
    "# Serialize the instances data by parsing date, datetime properties\n",
    "new_nodes_instances = serialize_node_data(nodes_instances)\n",
    "\n",
    "# Save the parsed instances to a file\n",
    "write_json(new_nodes_instances, instances_nodes_file)"
   ]
  },
  {
   "cell_type": "markdown",
   "metadata": {},
   "source": [
    "## Relationship Instances"
   ]
  },
  {
   "cell_type": "code",
   "execution_count": 5,
   "metadata": {},
   "outputs": [],
   "source": [
    "# Read the relationships list\n",
    "rels = read_json(rels_file)\n",
    "\n",
    "# Extract relationships as triples: [source, relationship, target]\n",
    "relationships_triples = extract_relationships_triples(rels)\n",
    "\n",
    "# Extract parsed relationships instances - one sublist per relationship triple\n",
    "rels_instances = sutils.extract_multiple_relationships_instances(relationships_triples, 10)\n",
    "\n",
    "# Serialize the instances data by parsing date, datetime properties\n",
    "new_rels_instances = serialize_rels_data(rels_instances)\n",
    "\n",
    "# Add the node labels to the relationships information\n",
    "parsed_rels_instances = combine_rels_with_labels(relationships_triples,new_rels_instances)\n",
    "\n",
    "# Save the parsed instances to a file\n",
    "write_json(parsed_rels_instances, instances_relationships_file)"
   ]
  },
  {
   "cell_type": "code",
   "execution_count": null,
   "metadata": {},
   "outputs": [],
   "source": []
  }
 ],
 "metadata": {
  "kernelspec": {
   "display_name": "chatenv",
   "language": "python",
   "name": "python3"
  },
  "language_info": {
   "codemirror_mode": {
    "name": "ipython",
    "version": 3
   },
   "file_extension": ".py",
   "mimetype": "text/x-python",
   "name": "python",
   "nbconvert_exporter": "python",
   "pygments_lexer": "ipython3",
   "version": "3.11.3"
  },
  "orig_nbformat": 4
 },
 "nbformat": 4,
 "nbformat_minor": 2
}
