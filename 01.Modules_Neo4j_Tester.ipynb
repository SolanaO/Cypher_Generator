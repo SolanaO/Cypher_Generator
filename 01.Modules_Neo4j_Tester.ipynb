{
 "cells": [
  {
   "cell_type": "markdown",
   "metadata": {},
   "source": [
    "# Working with Graph Modules and Utilities"
   ]
  },
  {
   "cell_type": "markdown",
   "metadata": {},
   "source": [
    "Test modules: neo4j_conn, neo4j_schema."
   ]
  },
  {
   "cell_type": "markdown",
   "metadata": {},
   "source": [
    "## Workspace Setup"
   ]
  },
  {
   "cell_type": "code",
   "execution_count": null,
   "metadata": {},
   "outputs": [],
   "source": [
    "# Load credentials and other environment variables\n",
    "import os\n",
    "from dotenv import load_dotenv, find_dotenv\n",
    "\n",
    "_ = load_dotenv(find_dotenv())\n",
    "\n",
    "uri = os.getenv(\"NEO4J_URI\")\n",
    "user = os.getenv(\"NEO4J_USER\")\n",
    "pwd = os.getenv(\"NEO4J_PWD\")"
   ]
  },
  {
   "cell_type": "code",
   "execution_count": null,
   "metadata": {},
   "outputs": [],
   "source": [
    "import pandas as pd\n",
    "\n",
    "### Useful pandas settings ###\n",
    "\n",
    "# Use 2 decimal places in the output display\n",
    "pd.set_option(\"display.precision\", 2)\n",
    "\n",
    "# Don't wrap dataframe across additional lines\n",
    "pd.set_option(\"display.expand_frame_repr\", False)\n",
    "\n",
    "# Set the maximum widths of columns\n",
    "pd.set_option(\"display.max_colwidth\", 180)\n",
    "\n",
    "# Set max rows displayed in output to n\n",
    "pd.set_option(\"display.max_rows\", 130)"
   ]
  },
  {
   "cell_type": "code",
   "execution_count": null,
   "metadata": {},
   "outputs": [],
   "source": [
    "# Set the working directory and import the local modules\n",
    "import sys\n",
    "from pathlib import Path\n",
    "parent_dir = Path.cwd() #.parent\n",
    "sys.path.append(str(parent_dir))\n",
    "\n",
    "from helpers.utilities import *\n",
    "from helpers.graph_utils import *\n",
    "from helpers.neo4j_conn import Neo4jGraph\n",
    "from helpers.neo4j_schema import Neo4jSchema"
   ]
  },
  {
   "cell_type": "markdown",
   "metadata": {},
   "source": [
    "## Test the Graph Connector: neo4j_conn.py"
   ]
  },
  {
   "cell_type": "code",
   "execution_count": null,
   "metadata": {},
   "outputs": [],
   "source": [
    "# Instantiate Neo4j connection\n",
    "graph = Neo4jGraph(uri, user, pwd)"
   ]
  },
  {
   "cell_type": "code",
   "execution_count": null,
   "metadata": {},
   "outputs": [],
   "source": [
    "# Query KG and output a dictionary\n",
    "\n",
    "qc = \"MATCH (b:YourNodeLabel) RETURN b.your_property AS Property LIMIT 4;\"\n",
    "graph.query(qc)"
   ]
  },
  {
   "cell_type": "code",
   "execution_count": null,
   "metadata": {},
   "outputs": [],
   "source": [
    "# Query KG and output a list\n",
    "\n",
    "qc = \"MATCH (b:YourNodeLabel) RETURN b.your_property AS Property LIMIT 4;\"\n",
    "graph.query_to_list(qc)"
   ]
  },
  {
   "cell_type": "code",
   "execution_count": null,
   "metadata": {},
   "outputs": [],
   "source": [
    "# Query KG and output a pandas dataframe\n",
    "\n",
    "qc = \"MATCH (b:YourNodeLabel) RETURN b.your_property AS Property LIMIT 4;\"\n",
    "graph.query_to_df(qc)"
   ]
  },
  {
   "cell_type": "markdown",
   "metadata": {},
   "source": [
    "## Test Schema Utilities: neo4j_schema.py"
   ]
  },
  {
   "cell_type": "code",
   "execution_count": null,
   "metadata": {},
   "outputs": [],
   "source": [
    "# Instantiate the schema utilities module \n",
    "sutils = Neo4jSchema(uri, user, pwd)"
   ]
  },
  {
   "cell_type": "code",
   "execution_count": null,
   "metadata": {},
   "outputs": [],
   "source": [
    "# Simplified schema as a text \n",
    "schema_simplified = sutils.build_string_schema_simplified()\n",
    "schema_simplified[:50]"
   ]
  },
  {
   "cell_type": "code",
   "execution_count": null,
   "metadata": {},
   "outputs": [],
   "source": [
    "# Simplified schema as a dictionary\n",
    "simplified_schema_file = \"test_simplified_schema.json\"\n",
    "sutils.save_schema_simplified(simplified_schema_file)\n",
    "simplified_schema_test = read_json(simplified_schema_file)"
   ]
  },
  {
   "cell_type": "code",
   "execution_count": null,
   "metadata": {},
   "outputs": [],
   "source": [
    "simplified_schema_test.keys()"
   ]
  },
  {
   "cell_type": "code",
   "execution_count": null,
   "metadata": {},
   "outputs": [],
   "source": [
    "# Full schema as a text\n",
    "schema_full = sutils.build_string_schema_full()\n",
    "schema_full[:50]"
   ]
  },
  {
   "cell_type": "code",
   "execution_count": null,
   "metadata": {},
   "outputs": [],
   "source": [
    "# Full schema as a dictionary\n",
    "full_schema_file = \"test_full_schema.json\"\n",
    "sutils.save_schema_full(full_schema_file)\n",
    "full_schema_test = read_json(full_schema_file)"
   ]
  },
  {
   "cell_type": "code",
   "execution_count": null,
   "metadata": {},
   "outputs": [],
   "source": [
    "full_schema_test.keys()"
   ]
  },
  {
   "cell_type": "code",
   "execution_count": null,
   "metadata": {},
   "outputs": [],
   "source": [
    "full_schema_test['relationships'][:3]"
   ]
  },
  {
   "cell_type": "code",
   "execution_count": null,
   "metadata": {},
   "outputs": [],
   "source": [
    "# Dictionary of nodes and properties\n",
    "nodes_file_test = \"test_nodes_file.json\"\n",
    "sutils.node_properties_with_types(nodes_file_test)\n",
    "nodes_props = read_json(nodes_file_test)"
   ]
  },
  {
   "cell_type": "code",
   "execution_count": null,
   "metadata": {},
   "outputs": [],
   "source": [
    "nodes_props[1]"
   ]
  },
  {
   "cell_type": "code",
   "execution_count": null,
   "metadata": {},
   "outputs": [],
   "source": [
    "# List of nodes\n",
    "nodes_test = \"test_list_nodes.json\"\n",
    "sutils.get_node_names(nodes_test)\n",
    "nodes = read_json(nodes_test)\n",
    "len(nodes)"
   ]
  },
  {
   "cell_type": "code",
   "execution_count": null,
   "metadata": {},
   "outputs": [],
   "source": [
    "nodes[:10]"
   ]
  },
  {
   "cell_type": "code",
   "execution_count": null,
   "metadata": {},
   "outputs": [],
   "source": [
    "# List of properties for a given node\n",
    "sutils.get_node_properties('NodeLabel')"
   ]
  },
  {
   "cell_type": "code",
   "execution_count": null,
   "metadata": {},
   "outputs": [],
   "source": [
    "# Relationship properties\n",
    "rels_props_file = \"test_relationships_properties.json\"\n",
    "sutils.relationship_properties_with_types(rels_props_file)\n",
    "rels_props = read_json(rels_props_file)"
   ]
  },
  {
   "cell_type": "code",
   "execution_count": null,
   "metadata": {},
   "outputs": [],
   "source": [
    "len(rels_props), rels_props[1]"
   ]
  },
  {
   "cell_type": "code",
   "execution_count": null,
   "metadata": {},
   "outputs": [],
   "source": [
    "samples = sutils.extract_data_values(['NodeLabel_1', 'NodeLabel_2'], 1)\n",
    "samples"
   ]
  },
  {
   "cell_type": "code",
   "execution_count": null,
   "metadata": {},
   "outputs": [],
   "source": [
    "rels = sutils.extract_relationship_instances(['Node_Label_1','IS_CONNECTED_TO', 'Node_Label_2'], 1)\n",
    "rels"
   ]
  },
  {
   "cell_type": "code",
   "execution_count": null,
   "metadata": {},
   "outputs": [],
   "source": [
    "df_taxonomy = sutils.upload_graph_data('NodeLabel')\n",
    "df_taxonomy.head()"
   ]
  }
 ],
 "metadata": {
  "kernelspec": {
   "display_name": "chatenv",
   "language": "python",
   "name": "python3"
  },
  "language_info": {
   "codemirror_mode": {
    "name": "ipython",
    "version": 3
   },
   "file_extension": ".py",
   "mimetype": "text/x-python",
   "name": "python",
   "nbconvert_exporter": "python",
   "pygments_lexer": "ipython3",
   "version": "3.11.3"
  },
  "orig_nbformat": 4
 },
 "nbformat": 4,
 "nbformat_minor": 2
}
